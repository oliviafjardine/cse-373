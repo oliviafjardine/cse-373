{
 "cells": [
  {
   "cell_type": "markdown",
   "id": "fcca5f12",
   "metadata": {},
   "source": [
    "# Tries and Ternary Search Tries (TSTs)\n",
    "\n",
    "This notebook covers two important data structures for string storage and retrieval: **Tries** and **Ternary Search Tries (TSTs)**.\n",
    "\n",
    "**Resources:**\n",
    "1. [Geeks for Geeks - Tries](https://www.geeksforgeeks.org/dsa/trie-insert-and-search/)\n",
    "2. [YouTube - TSTs Explained with Java Implementations](https://www.youtube.com/watch?v=_vKKGUtF7DM)"
   ]
  },
  {
   "cell_type": "markdown",
   "id": "827dfe10",
   "metadata": {},
   "source": [
    "---\n",
    "## 1. Tries (Prefix Trees)"
   ]
  },
  {
   "cell_type": "markdown",
   "id": "ecadbeaf",
   "metadata": {},
   "source": [
    "### Definition\n",
    "A **Trie** is a tree-like data structure used to efficiently store and retrieve keys in a dataset of strings. Each node represents a character of a string."
   ]
  },
  {
   "cell_type": "markdown",
   "id": "9e789e0f",
   "metadata": {},
   "source": [
    "### Key Use Cases\n",
    "- Autocomplete systems\n",
    "- Spell-checking\n",
    "- IP routing (longest prefix matching)\n",
    "- Dictionary implementations"
   ]
  },
  {
   "cell_type": "code",
   "execution_count": null,
   "id": "4bf3fd0d",
   "metadata": {},
   "outputs": [],
   "source": [
    "// Trie Node implementation in Java\n",
    "public class TrieNode {\n",
    "    TrieNode[] children; // Array for child nodes (26 for lowercase a-z)\n",
    "    boolean isEndOfWord; // True if node represents end of a word\n",
    "\n",
    "    public TrieNode() {\n",
    "        isEndOfWord = false;\n",
    "        children = new TrieNode[26];\n",
    "    }\n",
    "}"
   ]
  },
  {
   "cell_type": "markdown",
   "id": "49c56bc9",
   "metadata": {},
   "source": [
    "### Characteristics\n",
    "- Each node can have up to 26 children (for lowercase English letters)\n",
    "- Root node does not store any character\n",
    "- Unlimited number of children per node\n",
    "- Efficient for prefix-based queries"
   ]
  },
  {
   "cell_type": "markdown",
   "id": "d8149fcf",
   "metadata": {},
   "source": [
    "### Common Operations\n",
    "1. **Insertion**: Add a word to the trie\n",
    "2. **Search**: Check if a word exists\n",
    "3. **Deletion**: Remove a word\n",
    "4. **Prefix Search**: Find all words with a given prefix"
   ]
  },
  {
   "cell_type": "markdown",
   "id": "fa559e36",
   "metadata": {},
   "source": [
    "| Operation         | Time Complexity | Space Complexity |\n",
    "|-------------------|----------------|-----------------|\n",
    "| Insertion         | O(n)           | O(n)            |\n",
    "| Search            | O(n)           | O(1)            |\n",
    "| Prefix Searching  | O(n)           | O(1)            |\n",
    "\n",
    "*n = length of the word or prefix*"
   ]
  },
  {
   "cell_type": "markdown",
   "id": "351c2c7a",
   "metadata": {},
   "source": [
    "### Advantages\n",
    "- Fast lookups for complete words and prefixes\n",
    "- Simple implementation for fixed-size alphabets\n",
    "\n",
    "### Limitations\n",
    "- Can consume a lot of memory for sparse datasets\n",
    "- Not space-efficient for large alphabets"
   ]
  },
  {
   "cell_type": "markdown",
   "id": "521586cc",
   "metadata": {},
   "source": [
    "---\n",
    "## 2. Ternary Search Tries (TSTs)"
   ]
  },
  {
   "cell_type": "markdown",
   "id": "e41707c7",
   "metadata": {},
   "source": [
    "### Definition\n",
    "A **Ternary Search Trie (TST)** is a hybrid between a binary search tree and a trie. Each node stores a character and has three children: left, middle, and right."
   ]
  },
  {
   "cell_type": "markdown",
   "id": "121c5d63",
   "metadata": {},
   "source": [
    "### Key Use Cases\n",
    "- Spell-checking\n",
    "- Autocompletion\n",
    "- Symbol tables for strings\n",
    "- Memory-efficient associative maps"
   ]
  },
  {
   "cell_type": "markdown",
   "id": "086dab70",
   "metadata": {},
   "source": [
    "### Characteristics\n",
    "- Each node has at most 3 children:\n",
    "  - **Left**: characters less than current\n",
    "  - **Middle**: next character in key\n",
    "  - **Right**: characters greater than current\n",
    "- No empty string at root (unlike trie)\n",
    "- More space-efficient than standard tries for sparse data"
   ]
  },
  {
   "cell_type": "markdown",
   "id": "2dcb7032",
   "metadata": {},
   "source": [
    "### Common Operations\n",
    "1. **Insert**: Add a word (insert())\n",
    "2. **Search**: Check if a word exists (contains())\n",
    "3. **Soft-Deletion**: Mark a word as deleted (softDelete())"
   ]
  },
  {
   "cell_type": "markdown",
   "id": "27f7b3ed",
   "metadata": {},
   "source": [
    "| Operation         | Time Complexity (avg) | Space Complexity |\n",
    "|-------------------|----------------------|-----------------|\n",
    "| Insertion         | O(log n)             | O(n)            |\n",
    "| Search            | O(log n)             | O(1)            |\n",
    "| Prefix Searching  | O(log n + k)         | O(1)            |\n",
    "\n",
    "*n = number of keys, k = length of prefix*"
   ]
  },
  {
   "cell_type": "markdown",
   "id": "3150033f",
   "metadata": {},
   "source": [
    "### Advantages\n",
    "- More space-efficient than tries for large, sparse datasets\n",
    "- Supports ordered traversal of keys\n",
    "\n",
    "### Limitations\n",
    "- Slightly slower than tries for dense datasets\n",
    "- More complex implementation"
   ]
  },
  {
   "cell_type": "markdown",
   "id": "3532c491",
   "metadata": {},
   "source": [
    "---\n",
    "## 3. Tries vs. TSTs: Summary Table\n",
    "\n",
    "| Feature                | Trie                | TST                  |\n",
    "|------------------------|---------------------|----------------------|\n",
    "| Children per node      | Up to alphabet size | 3 (left, mid, right) |\n",
    "| Space efficiency       | Low (sparse)        | High (sparse)        |\n",
    "| Lookup speed           | Fast                | Fast (log n)         |\n",
    "| Ordered traversal      | No                  | Yes                  |\n",
    "| Implementation         | Simple              | More complex         |\n",
    "\n",
    "**Choose a Trie for:** fast prefix queries and dense datasets.\n",
    "\n",
    "**Choose a TST for:** memory efficiency with sparse or large alphabets, and when ordered traversal is needed."
   ]
  }
 ],
 "metadata": {
  "kernelspec": {
   "display_name": "Java",
   "language": "java",
   "name": "java"
  },
  "language_info": {
   "name": "java"
  }
 },
 "nbformat": 4,
 "nbformat_minor": 5
}
