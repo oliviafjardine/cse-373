{
 "cells": [
  {
   "cell_type": "markdown",
   "id": "b5766280",
   "metadata": {},
   "source": [
    "# Iterative Sorts\n",
    "- Selection Sort\n",
    "- Insertion Sort\n",
    "\n",
    "### Comoparison Sorts\n",
    "Sorting algorithms that compare elements to each other. compareTo() in java\n",
    "\n",
    "### Stability\n",
    "preserve the original order to keys with equal values.\n",
    "\n",
    "### In-place\n",
    "Sort without using axiluary extra (memory) space. \n",
    "\n",
    "### Iterative Movement\n",
    "\n",
    "\n",
    "| Algorithm | Best Case Time Complexity | Worst Case Time Complexity | \n",
    "| --- | --- | --- |\n",
    "| Selection Sort | O(n^2) | O(n^2) |\n",
    "| Insertion Sort | O(n) | O(n^2) |\n",
    "\n",
    "## Selection Sort\n",
    "1. Find smallest element and swap it with first element.\n",
    "2. Repeat for remaining n - 1 elements.\n",
    "\n",
    "## Insertion Sort\n",
    "1. Swaps with one value at a time until sorted."
   ]
  }
 ],
 "metadata": {
  "kernelspec": {
   "display_name": "Python 3",
   "language": "python",
   "name": "python3"
  },
  "language_info": {
   "name": "python",
   "version": "3.12.4"
  }
 },
 "nbformat": 4,
 "nbformat_minor": 5
}
