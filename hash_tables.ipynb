{
 "cells": [
  {
   "cell_type": "markdown",
   "id": "b45820c0",
   "metadata": {},
   "source": [
    "# Hash Tables\n",
    "\n",
    "[⬅ Previous: Binary Heaps](binary_heap.ipynb)\\\n",
    "[➡ Next: Affordance Analysis](affordance_analysis.ipynb)\n",
    "\n",
    "## Runtime\n",
    "Average: $O(1)$\\\n",
    "Worst Case: $O(N)$\n",
    "\n",
    "## Collision Handling\n",
    "**Separate Chaining:** using linked lists\n",
    "- array called \"buckets\" (keys)\n",
    "- linked list called \"chains\" (values)\n",
    "- use modulo %\n",
    "\n",
    "1. compute **hash code** using **hash function** $h(x) = x%5$\n",
    "2. determine bucket index with **hashCode % arr.length**\n",
    "3. search the bucket for element\n",
    "\n",
    "After these steps, most values would land in bucket index 0. Sometimes you can get uneven distributions (we don't want this)\n",
    "\n",
    "### HashSet\n",
    "\n",
    "### HashMap"
   ]
  }
 ],
 "metadata": {
  "language_info": {
   "name": "python"
  }
 },
 "nbformat": 4,
 "nbformat_minor": 5
}
