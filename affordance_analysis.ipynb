{
 "cells": [
  {
   "cell_type": "markdown",
   "id": "6e67f60c",
   "metadata": {},
   "source": [
    "# Affordance Analysis"
   ]
  }
 ],
 "metadata": {
  "language_info": {
   "name": "python"
  }
 },
 "nbformat": 4,
 "nbformat_minor": 5
}
