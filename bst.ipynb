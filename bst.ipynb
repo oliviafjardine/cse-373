{
 "cells": [
  {
   "cell_type": "markdown",
   "id": "e1384132",
   "metadata": {},
   "source": [
    "# Binary Search Trees"
   ]
  },
  {
   "cell_type": "markdown",
   "id": "10fa832f",
   "metadata": {},
   "source": [
    "Start from middle, then traverse through, focusing on left and right."
   ]
  },
  {
   "cell_type": "markdown",
   "id": "9798b9c7",
   "metadata": {},
   "source": [
    "## Hierarchy\n",
    "- All elements to left are less than element k\n",
    "- All elements to right are more than element k\n",
    "\n",
    "### Terminology\n",
    "1. overall root\n",
    "2. subtree\n",
    "3. leafnodes: no child nodes\n",
    "\n",
    "### Height\n",
    "\n",
    "### Bushy vs Spindly\n",
    "Tree Type | Structure   | Time Complexity\n",
    "----------|-------------|----------------\n",
    "Bushy     | Balanced    | O(log N)\n",
    "Spindly   | Unbalanced  | O(N)\n"
   ]
  },
  {
   "cell_type": "markdown",
   "id": "8ff1bae3",
   "metadata": {},
   "source": [
    "## Methods"
   ]
  },
  {
   "cell_type": "markdown",
   "id": "4fe9dfe5",
   "metadata": {},
   "source": [
    "### get()\n",
    "\n",
    "1. public-private pairs\n",
    "2. check invalid key\n",
    "3. check if key is not found\n",
    "4. compare values"
   ]
  },
  {
   "cell_type": "code",
   "execution_count": 2,
   "id": "de3d8722",
   "metadata": {
    "vscode": {
     "languageId": "java"
    }
   },
   "outputs": [
    {
     "ename": "CompilationException",
     "evalue": "",
     "output_type": "error",
     "traceback": [
      "\u001b[1m\u001b[30m|   \u001b[1m\u001b[30mpublic Value get(Key key) {\u001b[0m",
      "\u001b[1m\u001b[30m|   \u001b[1m\u001b[30m    return get(root, key);\u001b[0m",
      "\u001b[1m\u001b[30m|   \u001b[1m\u001b[30m}\u001b[0m",
      "\u001b[1m\u001b[31mUnresolved dependencies:\u001b[0m",
      "\u001b[1m\u001b[31m   - class Key\u001b[0m",
      "\u001b[1m\u001b[31m   - class Value\u001b[0m",
      "\u001b[1m\u001b[31m   - variable root\u001b[0m"
     ]
    }
   ],
   "source": [
    "public Value get(Key key) {\n",
    "    return get(root, key);\n",
    "}\n",
    "\n",
    "private Value get(Node x, Key key) {\n",
    "    if (key == null) \n",
    "        throw new IllegalArgumentException(\"calls get() with a null key\");\n",
    "    if (x == null) \n",
    "        return null;\n",
    "\n",
    "    int cmp = key.compareTo(x.key);\n",
    "    if (cmp < 0) \n",
    "        return get(x.left, key);\n",
    "    else if (cmp > 0) \n",
    "        return get(x.right, key);\n",
    "    else \n",
    "        return x.val;\n",
    "}"
   ]
  },
  {
   "cell_type": "markdown",
   "id": "5db1b622",
   "metadata": {},
   "source": [
    "### put()\n"
   ]
  },
  {
   "cell_type": "code",
   "execution_count": 1,
   "id": "35351fe6",
   "metadata": {
    "vscode": {
     "languageId": "java"
    }
   },
   "outputs": [
    {
     "ename": "CompilationException",
     "evalue": "",
     "output_type": "error",
     "traceback": [
      "\u001b[1m\u001b[30m|   \u001b[1m\u001b[30mpublic void put(Key key, Value val) {\u001b[0m",
      "\u001b[1m\u001b[30m|   \u001b[1m\u001b[30m    if (key == null) \u001b[0m",
      "\u001b[1m\u001b[30m|   \u001b[1m\u001b[30m        throw new IllegalArgumentException(\"calls put() with a null key\");\u001b[0m",
      "\u001b[1m\u001b[30m|   \u001b[1m\u001b[30m    if (val == null) {\u001b[0m",
      "\u001b[1m\u001b[30m|   \u001b[1m\u001b[30m        delete(key);\u001b[0m",
      "\u001b[1m\u001b[30m|   \u001b[1m\u001b[30m        return;\u001b[0m",
      "\u001b[1m\u001b[30m|   \u001b[1m\u001b[30m    }\u001b[0m",
      "\u001b[1m\u001b[30m|   \u001b[1m\u001b[30m    root = put(root, key, val);\u001b[0m",
      "\u001b[1m\u001b[30m|   \u001b[1m\u001b[30m    assert check();\u001b[0m",
      "\u001b[1m\u001b[30m|   \u001b[1m\u001b[30m}\u001b[0m",
      "\u001b[1m\u001b[31mUnresolved dependencies:\u001b[0m",
      "\u001b[1m\u001b[31m   - class Key\u001b[0m",
      "\u001b[1m\u001b[31m   - class Value\u001b[0m",
      "\u001b[1m\u001b[31m   - variable root\u001b[0m",
      "\u001b[1m\u001b[31m   - method check()\u001b[0m"
     ]
    }
   ],
   "source": [
    "public void put(Key key, Value val) {\n",
    "    if (key == null) \n",
    "        throw new IllegalArgumentException(\"calls put() with a null key\");\n",
    "    if (val == null) {\n",
    "        delete(key);\n",
    "        return;\n",
    "    }\n",
    "    root = put(root, key, val);\n",
    "    assert check();\n",
    "}\n",
    "\n",
    "private Node put(Node x, Key key, Value val) {\n",
    "    if (x == null) \n",
    "        return new Node(key, val, 1);\n",
    "\n",
    "    int cmp = key.compareTo(x.key);\n",
    "    if (cmp < 0) \n",
    "        x.left = put(x.left, key, val);\n",
    "    else if (cmp > 0) \n",
    "        x.right = put(x.right, key, val);\n",
    "    else \n",
    "        x.val = val;\n",
    "\n",
    "    x.size = 1 + size(x.left) + size(x.right);\n",
    "    return x;\n",
    "}\n"
   ]
  },
  {
   "cell_type": "markdown",
   "id": "4cfe7ca0",
   "metadata": {},
   "source": [
    "### delete()"
   ]
  },
  {
   "cell_type": "markdown",
   "id": "6b692a4f",
   "metadata": {},
   "source": []
  },
  {
   "cell_type": "code",
   "execution_count": null,
   "id": "d2d2541f",
   "metadata": {
    "vscode": {
     "languageId": "java"
    }
   },
   "outputs": [],
   "source": [
    "public void delete(Key key) {\n",
    "    if (key == null) \n",
    "        throw new IllegalArgumentException(\"calls delete() with a null key\");\n",
    "    root = delete(root, key);\n",
    "    assert check();\n",
    "}\n",
    "\n",
    "private Node delete(Node x, Key key) {\n",
    "    if (x == null) \n",
    "        return null;\n",
    "\n",
    "    int cmp = key.compareTo(x.key);\n",
    "    if (cmp < 0) \n",
    "        x.left = delete(x.left, key);\n",
    "    else if (cmp > 0) \n",
    "        x.right = delete(x.right, key);\n",
    "    else {\n",
    "        if (x.right == null) \n",
    "            return x.left;\n",
    "        if (x.left == null) \n",
    "            return x.right;\n",
    "\n",
    "        Node t = x;\n",
    "        x = min(t.right);\n",
    "        x.right = deleteMin(t.right);\n",
    "        x.left = t.left;\n",
    "    }\n",
    "    x.size = size(x.left) + size(x.right) + 1;\n",
    "    return x;\n",
    "}"
   ]
  }
 ],
 "metadata": {
  "kernelspec": {
   "display_name": "Java",
   "language": "java",
   "name": "java"
  },
  "language_info": {
   "codemirror_mode": "java",
   "file_extension": ".jshell",
   "mimetype": "text/x-java-source",
   "name": "Java",
   "pygments_lexer": "java",
   "version": "21.0.4+7-LTS"
  }
 },
 "nbformat": 4,
 "nbformat_minor": 5
}
