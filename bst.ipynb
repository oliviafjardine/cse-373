{
 "cells": [
  {
   "cell_type": "markdown",
   "id": "e1384132",
   "metadata": {},
   "source": [
    "# Binary Search Trees"
   ]
  },
  {
   "cell_type": "markdown",
   "id": "10fa832f",
   "metadata": {},
   "source": [
    "Start from middle, then traverse through, focusing on left and right."
   ]
  },
  {
   "cell_type": "markdown",
   "id": "9798b9c7",
   "metadata": {},
   "source": [
    "## Hierarchy\n",
    "- All elements to left are less than element k\n",
    "- All elements to right are more than element k\n",
    "\n",
    "### Terminology\n",
    "1. overall root\n",
    "2. subtree\n",
    "3. leafnodes: no child nodes\n",
    "\n",
    "### Height\n",
    "\n",
    "### Bushy vs Spindly\n",
    "Tree Type | Structure   | Time Complexity\n",
    "----------|-------------|----------------\n",
    "Bushy     | Balanced    | O(log N)\n",
    "Spindly   | Unbalanced  | O(N)\n"
   ]
  },
  {
   "cell_type": "markdown",
   "id": "8ff1bae3",
   "metadata": {},
   "source": [
    "## Methods"
   ]
  },
  {
   "cell_type": "markdown",
   "id": "4fe9dfe5",
   "metadata": {},
   "source": [
    "### get()"
   ]
  },
  {
   "cell_type": "code",
   "execution_count": 2,
   "id": "de3d8722",
   "metadata": {},
   "outputs": [
    {
     "ename": "CompilationException",
     "evalue": "",
     "output_type": "error",
     "traceback": [
      "\u001b[1m\u001b[30m|   \u001b[1m\u001b[30mpublic Value get(Key key) {\u001b[0m",
      "\u001b[1m\u001b[30m|   \u001b[1m\u001b[30m    return get(root, key);\u001b[0m",
      "\u001b[1m\u001b[30m|   \u001b[1m\u001b[30m}\u001b[0m",
      "\u001b[1m\u001b[31mUnresolved dependencies:\u001b[0m",
      "\u001b[1m\u001b[31m   - class Key\u001b[0m",
      "\u001b[1m\u001b[31m   - class Value\u001b[0m",
      "\u001b[1m\u001b[31m   - variable root\u001b[0m"
     ]
    }
   ],
   "source": [
    "public Value get(Key key) {\n",
    "    return get(root, key);\n",
    "}\n",
    "\n",
    "private Value get(Node x, Key key) {\n",
    "    if (key == null) \n",
    "        throw new IllegalArgumentException(\"calls get() with a null key\");\n",
    "    if (x == null) \n",
    "        return null;\n",
    "\n",
    "    int cmp = key.compareTo(x.key);\n",
    "    if (cmp < 0) \n",
    "        return get(x.left, key);\n",
    "    else if (cmp > 0) \n",
    "        return get(x.right, key);\n",
    "    else \n",
    "        return x.val;\n",
    "}"
   ]
  },
  {
   "cell_type": "markdown",
   "id": "5db1b622",
   "metadata": {},
   "source": [
    "### put()\n"
   ]
  },
  {
   "cell_type": "code",
   "execution_count": 1,
   "id": "35351fe6",
   "metadata": {},
   "outputs": [
    {
     "ename": "CompilationException",
     "evalue": "",
     "output_type": "error",
     "traceback": [
      "\u001b[1m\u001b[30m|   \u001b[1m\u001b[30mpublic void put(Key key, Value val) {\u001b[0m",
      "\u001b[1m\u001b[30m|   \u001b[1m\u001b[30m    if (key == null) \u001b[0m",
      "\u001b[1m\u001b[30m|   \u001b[1m\u001b[30m        throw new IllegalArgumentException(\"calls put() with a null key\");\u001b[0m",
      "\u001b[1m\u001b[30m|   \u001b[1m\u001b[30m    if (val == null) {\u001b[0m",
      "\u001b[1m\u001b[30m|   \u001b[1m\u001b[30m        delete(key);\u001b[0m",
      "\u001b[1m\u001b[30m|   \u001b[1m\u001b[30m        return;\u001b[0m",
      "\u001b[1m\u001b[30m|   \u001b[1m\u001b[30m    }\u001b[0m",
      "\u001b[1m\u001b[30m|   \u001b[1m\u001b[30m    root = put(root, key, val);\u001b[0m",
      "\u001b[1m\u001b[30m|   \u001b[1m\u001b[30m    assert check();\u001b[0m",
      "\u001b[1m\u001b[30m|   \u001b[1m\u001b[30m}\u001b[0m",
      "\u001b[1m\u001b[31mUnresolved dependencies:\u001b[0m",
      "\u001b[1m\u001b[31m   - class Key\u001b[0m",
      "\u001b[1m\u001b[31m   - class Value\u001b[0m",
      "\u001b[1m\u001b[31m   - variable root\u001b[0m",
      "\u001b[1m\u001b[31m   - method check()\u001b[0m"
     ]
    }
   ],
   "source": [
    "public void put(Key key, Value val) {\n",
    "    if (key == null) \n",
    "        throw new IllegalArgumentException(\"calls put() with a null key\");\n",
    "    if (val == null) {\n",
    "        delete(key);\n",
    "        return;\n",
    "    }\n",
    "    root = put(root, key, val);\n",
    "    assert check();\n",
    "}\n",
    "\n",
    "private Node put(Node x, Key key, Value val) {\n",
    "    if (x == null) \n",
    "        return new Node(key, val, 1);\n",
    "\n",
    "    int cmp = key.compareTo(x.key);\n",
    "    if (cmp < 0) \n",
    "        x.left = put(x.left, key, val);\n",
    "    else if (cmp > 0) \n",
    "        x.right = put(x.right, key, val);\n",
    "    else \n",
    "        x.val = val;\n",
    "\n",
    "    x.size = 1 + size(x.left) + size(x.right);\n",
    "    return x;\n",
    "}\n"
   ]
  },
  {
   "cell_type": "markdown",
   "id": "4cfe7ca0",
   "metadata": {},
   "source": [
    "### delete()"
   ]
  },
  {
   "cell_type": "code",
   "execution_count": null,
   "id": "d2d2541f",
   "metadata": {},
   "outputs": [],
   "source": [
    "public void delete(Key key) {\n",
    "    if (key == null) \n",
    "        throw new IllegalArgumentException(\"calls delete() with a null key\");\n",
    "    root = delete(root, key);\n",
    "    assert check();\n",
    "}\n",
    "\n",
    "private Node delete(Node x, Key key) {\n",
    "    if (x == null) \n",
    "        return null;\n",
    "\n",
    "    int cmp = key.compareTo(x.key);\n",
    "    if (cmp < 0) \n",
    "        x.left = delete(x.left, key);\n",
    "    else if (cmp > 0) \n",
    "        x.right = delete(x.right, key);\n",
    "    else {\n",
    "        if (x.right == null) \n",
    "            return x.left;\n",
    "        if (x.left == null) \n",
    "            return x.right;\n",
    "\n",
    "        Node t = x;\n",
    "        x = min(t.right);\n",
    "        x.right = deleteMin(t.right);\n",
    "        x.left = t.left;\n",
    "    }\n",
    "    x.size = size(x.left) + size(x.right) + 1;\n",
    "    return x;\n",
    "}"
   ]
  },
  {
   "cell_type": "markdown",
   "id": "c36e4581",
   "metadata": {},
   "source": [
    "### Testing the Methods"
   ]
  },
  {
   "cell_type": "code",
   "execution_count": 5,
   "id": "914e05ad",
   "metadata": {},
   "outputs": [
    {
     "name": "stdout",
     "output_type": "stream",
     "text": [
      "Get key 3: Three\n",
      "Get key 3 after delete: null\n"
     ]
    }
   ],
   "source": [
    "class BST<Key extends Comparable<Key>, Value> {\n",
    "    private class Node {\n",
    "        Key key;\n",
    "        Value val;\n",
    "        Node left, right;\n",
    "        int size;\n",
    "        Node(Key key, Value val, int size) {\n",
    "            this.key = key;\n",
    "            this.val = val;\n",
    "            this.size = size;\n",
    "        }\n",
    "    }\n",
    "\n",
    "    private Node root;\n",
    "\n",
    "    private int size(Node x) {\n",
    "        if (x == null) return 0;\n",
    "        return x.size;\n",
    "    }\n",
    "\n",
    "    public int size() {\n",
    "        return size(root);\n",
    "    }\n",
    "\n",
    "    public void put(Key key, Value val) {\n",
    "        if (key == null)\n",
    "            throw new IllegalArgumentException(\"calls put() with a null key\");\n",
    "        if (val == null) {\n",
    "            delete(key);\n",
    "            return;\n",
    "        }\n",
    "        root = put(root, key, val);\n",
    "    }\n",
    "\n",
    "    private Node put(Node x, Key key, Value val) {\n",
    "        if (x == null) return new Node(key, val, 1);\n",
    "\n",
    "        int cmp = key.compareTo(x.key);\n",
    "        if (cmp < 0) x.left = put(x.left, key, val);\n",
    "        else if (cmp > 0) x.right = put(x.right, key, val);\n",
    "        else x.val = val;\n",
    "\n",
    "        x.size = 1 + size(x.left) + size(x.right);\n",
    "        return x;\n",
    "    }\n",
    "\n",
    "    public Value get(Key key) {\n",
    "        return get(root, key);\n",
    "    }\n",
    "\n",
    "    private Value get(Node x, Key key) {\n",
    "        if (key == null)\n",
    "            throw new IllegalArgumentException(\"calls get() with a null key\");\n",
    "        if (x == null)\n",
    "            return null;\n",
    "\n",
    "        int cmp = key.compareTo(x.key);\n",
    "        if (cmp < 0) return get(x.left, key);\n",
    "        else if (cmp > 0) return get(x.right, key);\n",
    "        else return x.val;\n",
    "    }\n",
    "\n",
    "    public void delete(Key key) {\n",
    "        if (key == null)\n",
    "            throw new IllegalArgumentException(\"calls delete() with a null key\");\n",
    "        root = delete(root, key);\n",
    "    }\n",
    "\n",
    "    private Node delete(Node x, Key key) {\n",
    "        if (x == null) return null;\n",
    "\n",
    "        int cmp = key.compareTo(x.key);\n",
    "        if (cmp < 0) x.left = delete(x.left, key);\n",
    "        else if (cmp > 0) x.right = delete(x.right, key);\n",
    "        else {\n",
    "            if (x.right == null) return x.left;\n",
    "            if (x.left == null) return x.right;\n",
    "\n",
    "            Node t = x;\n",
    "            x = min(t.right);\n",
    "            x.right = deleteMin(t.right);\n",
    "            x.left = t.left;\n",
    "        }\n",
    "        x.size = size(x.left) + size(x.right) + 1;\n",
    "        return x;\n",
    "    }\n",
    "\n",
    "    private Node min(Node x) {\n",
    "        if (x.left == null) return x;\n",
    "        else return min(x.left);\n",
    "    }\n",
    "\n",
    "    private Node deleteMin(Node x) {\n",
    "        if (x.left == null) return x.right;\n",
    "        x.left = deleteMin(x.left);\n",
    "        x.size = size(x.left) + size(x.right) + 1;\n",
    "        return x;\n",
    "    }\n",
    "}\n",
    "\n",
    "// Test in next cell:\n",
    "BST<Integer, String> bst = new BST<>();\n",
    "bst.put(5, \"Five\");\n",
    "bst.put(3, \"Three\");\n",
    "bst.put(7, \"Seven\");\n",
    "bst.put(2, \"Two\");\n",
    "bst.put(4, \"Four\");\n",
    "System.out.println(\"Get key 3: \" + bst.get(3));  // Three\n",
    "bst.delete(3);\n",
    "System.out.println(\"Get key 3 after delete: \" + bst.get(3)); // null\n"
   ]
  }
 ],
 "metadata": {
  "kernelspec": {
   "display_name": "Java",
   "language": "java",
   "name": "java"
  },
  "language_info": {
   "codemirror_mode": "java",
   "file_extension": ".jshell",
   "mimetype": "text/x-java-source",
   "name": "java",
   "pygments_lexer": "java",
   "version": "21.0.4+7-LTS"
  }
 },
 "nbformat": 4,
 "nbformat_minor": 5
}
