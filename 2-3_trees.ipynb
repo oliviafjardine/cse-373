{
 "cells": [
  {
   "cell_type": "markdown",
   "id": "d2c9434a",
   "metadata": {},
   "source": [
    "# 2-3 Trees\n",
    "> A type of B-tree\n",
    "\n",
    "[⬅ Previous: Recurrences and Design](recurrences_and_design.ipynb)\\\n",
    "[➡ Next: LLRBs and AVLs](llrb_and_avl.ipynb)\n",
    "\n",
    "### Visualization Tool\n",
    "https://www.cs.usfca.edu/~galles/visualization/BTree.html\n",
    "\n",
    "---\n",
    "\n",
    "A 2-3 tree with k-levels must store:\n",
    "- **at least** $2^k - 1$ elements (only using 2-nodes)\n",
    "- **at most** $3^k - 1$ elements (only using 3-nodes)\n",
    "\n",
    "### Height\n",
    "$height = max(depth)$\n",
    "A 2-3 tree storing $N$ elements must have a height in $O(logN)$\n",
    "- $log_2(n)$ (2-nodes)\n",
    "- $log_3(n)$ (3-nodes)\n",
    "\n",
    "### Adding an element to exisiting 3-node\n",
    "\n",
    "<img src=\"images/2-3-trees/2-3.png\" alt=\"2-3 Tree\" height=\"150\">\n",
    "\n",
    "---\n",
    "\n",
    "### Cons\n",
    "- Not commonly implemented (difficult)\n",
    "- Additional runtime cost from constant node creation and removal\n"
   ]
  }
 ],
 "metadata": {
  "language_info": {
   "name": "python"
  }
 },
 "nbformat": 4,
 "nbformat_minor": 5
}
