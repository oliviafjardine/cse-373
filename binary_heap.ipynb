{
 "cells": [
  {
   "cell_type": "markdown",
   "id": "1e0de94c",
   "metadata": {},
   "source": [
    "# Binary Heaps\n",
    "\n",
    "[⬅ Previous: LLRBs and AVLs](llrb_and_avl.ipynb)\\\n",
    "[➡ Next: Hash Table](hash_table.ipynb)"
   ]
  }
 ],
 "metadata": {
  "language_info": {
   "name": "python"
  }
 },
 "nbformat": 4,
 "nbformat_minor": 5
}
